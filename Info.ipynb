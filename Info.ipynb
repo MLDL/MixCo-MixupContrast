{
 "cells": [
  {
   "cell_type": "markdown",
   "metadata": {},
   "source": [
    "## 1. Commands\n",
    "\n",
    "--------------\n",
    "**moco-v2 pretrain**\n",
    "\n",
    "```\n",
    "python ./main.py -a resnet18 --builder mixco --lr 0.015 --epoch 200 --gpu 1 \\\n",
    "--dataset tiny-imagenet --data-path [your data path] \\\n",
    "--mlp --moco-t 0.2 --aug-plus --cos 1 --exp-name moco_baseline\n",
    "```\n",
    "--------\n",
    "\n",
    "**mixco pretrain**\n",
    "```\n",
    "python ./main.py -a resnet18 --builder mixco --lr 0.015 --epoch 200 --gpu 0 \\\n",
    "--dataset tiny-imagenet --data-path [your data path]  \\\n",
    "--mlp --moco-t 0.2 --aug-plus --cos 1 --exp-name mixco_test\n",
    "```\n",
    "----------\n",
    "\n",
    "**linear classification**\n",
    "```\n",
    "python lincls.py -a resnet18 --lr 3.0 --batch-size 256 --gpu \n",
    "--pretrained [your pretrained file] \n",
    "```\n",
    "------------"
   ]
  },
  {
   "cell_type": "markdown",
   "metadata": {},
   "source": [
    "## 2. Experiment Strategy\n",
    "\n",
    "\n",
    "| Experiment Name | Mixup Strategy| Explained |\n",
    "| :- | :-: | :-: |\n",
    "| --- | --- | aaaaaaaaaaaaaaaaaaaaaaaaaaaaaaaaaaaaaaaaaaaaaaaa |\n",
    "\n",
    "-----------"
   ]
  },
  {
   "cell_type": "markdown",
   "metadata": {},
   "source": [
    "## 3. Experiment Results\n",
    "\n",
    "\n",
    "| Experiment Name | GPU Memory | GPU Time | Accuracy (Top1) | Accuracy (Top5) | Explained|\n",
    "| :- | -: | -: | -: | -: | :-: |\n",
    "| Moco-v2 (Baseline) | - | - | - | -| -|\n",
    "| --- | --- | --- | --- | ---| ---|\n",
    "\n",
    "-----------"
   ]
  },
  {
   "cell_type": "code",
   "execution_count": 5,
   "metadata": {},
   "outputs": [
    {
     "data": {
      "text/plain": [
       "[0, 1, 2, 3, 4, 5, 6, 7, 8, 9]"
      ]
     },
     "execution_count": 5,
     "metadata": {},
     "output_type": "execute_result"
    }
   ],
   "source": [
    "list(range(0, 10))"
   ]
  },
  {
   "cell_type": "code",
   "execution_count": 6,
   "metadata": {},
   "outputs": [],
   "source": [
    "import os"
   ]
  },
  {
   "cell_type": "code",
   "execution_count": 7,
   "metadata": {},
   "outputs": [
    {
     "data": {
      "text/plain": [
       "'./pretrained/filename'"
      ]
     },
     "execution_count": 7,
     "metadata": {},
     "output_type": "execute_result"
    }
   ],
   "source": [
    "os.path.join('./pretrained', 'filename')"
   ]
  },
  {
   "cell_type": "code",
   "execution_count": 8,
   "metadata": {},
   "outputs": [],
   "source": [
    "a = [1, 2, 3]"
   ]
  },
  {
   "cell_type": "code",
   "execution_count": 9,
   "metadata": {},
   "outputs": [],
   "source": [
    "a.insert(0, 56)"
   ]
  },
  {
   "cell_type": "code",
   "execution_count": 10,
   "metadata": {},
   "outputs": [
    {
     "data": {
      "text/plain": [
       "[56, 1, 2, 3]"
      ]
     },
     "execution_count": 10,
     "metadata": {},
     "output_type": "execute_result"
    }
   ],
   "source": [
    "a"
   ]
  },
  {
   "cell_type": "code",
   "execution_count": null,
   "metadata": {},
   "outputs": [],
   "source": []
  }
 ],
 "metadata": {
  "kernelspec": {
   "display_name": "Python 3",
   "language": "python",
   "name": "python3"
  },
  "language_info": {
   "codemirror_mode": {
    "name": "ipython",
    "version": 3
   },
   "file_extension": ".py",
   "mimetype": "text/x-python",
   "name": "python",
   "nbconvert_exporter": "python",
   "pygments_lexer": "ipython3",
   "version": "3.7.3"
  }
 },
 "nbformat": 4,
 "nbformat_minor": 2
}
