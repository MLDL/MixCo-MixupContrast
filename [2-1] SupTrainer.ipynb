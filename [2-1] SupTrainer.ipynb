{
 "cells": [
  {
   "cell_type": "code",
   "execution_count": 1,
   "metadata": {},
   "outputs": [],
   "source": [
    "import torch\n",
    "import torch.nn as nn\n",
    "import torch.optim as optim\n",
    "import torch.optim.lr_scheduler as lr_scheduler\n",
    "from models import *\n",
    "from trainers import *\n",
    "from data_utils import *"
   ]
  },
  {
   "cell_type": "code",
   "execution_count": 2,
   "metadata": {},
   "outputs": [
    {
     "name": "stdout",
     "output_type": "stream",
     "text": [
      "Files already downloaded and verified\n",
      "Files already downloaded and verified\n",
      "Files already downloaded and verified\n"
     ]
    }
   ],
   "source": [
    "model = resnet10(num_classes=100, from_small=True)\n",
    "dataloaders, dataset_sizes = data_loader('cifar100', './data/cifar100')\n",
    "optimizer = optim.SGD(model.parameters(), lr=0.01, momentum=0.9)\n",
    "scheduler = lr_scheduler.MultiStepLR(optimizer, [2, 4], gamma=0.2)\n",
    "criterion = nn.CrossEntropyLoss()\n",
    "device = 'cuda:0'"
   ]
  },
  {
   "cell_type": "code",
   "execution_count": 3,
   "metadata": {},
   "outputs": [],
   "source": [
    "trainer = SupTrainer(model, dataloaders, dataset_sizes, criterion, optimizer, scheduler, device)"
   ]
  },
  {
   "cell_type": "code",
   "execution_count": 4,
   "metadata": {},
   "outputs": [
    {
     "name": "stdout",
     "output_type": "stream",
     "text": [
      "==================================================\n",
      "Train start on device: TITAN RTX\n",
      "================================================== \n",
      "\n",
      "[Epoch 1/5] Elapsed 26.777s/it\n",
      "[Train] Loss - 4.5994, Acc - 1.48 Learning Rate - 0.010000\n",
      "[Valid] Loss - 4.4429, Acc - 2.40 \n",
      "==================================================\n",
      "[Epoch 2/5] Elapsed 23.844s/it\n",
      "[Train] Loss - 4.2925, Acc - 3.73 Learning Rate - 0.002000\n",
      "[Valid] Loss - 4.0611, Acc - 5.68 \n",
      "==================================================\n",
      "[Epoch 3/5] Elapsed 24.474s/it\n",
      "[Train] Loss - 3.9568, Acc - 8.16 Learning Rate - 0.002000\n",
      "[Valid] Loss - 3.8642, Acc - 9.02 \n",
      "==================================================\n",
      "[Epoch 4/5] Elapsed 27.572s/it\n",
      "[Train] Loss - 3.8410, Acc - 10.16 Learning Rate - 0.000400\n",
      "[Valid] Loss - 3.8030, Acc - 9.60 \n",
      "==================================================\n",
      "[Epoch 5/5] Elapsed 33.683s/it\n",
      "[Train] Loss - 3.6977, Acc - 12.75 Learning Rate - 0.000400\n",
      "[Valid] Loss - 3.6429, Acc - 13.40 \n",
      "==================================================\n"
     ]
    }
   ],
   "source": [
    "trainer.train(num_epochs=5)"
   ]
  },
  {
   "cell_type": "code",
   "execution_count": null,
   "metadata": {},
   "outputs": [],
   "source": [
    "trainer.test(save_path='/results/suptest')"
   ]
  }
 ],
 "metadata": {
  "kernelspec": {
   "display_name": "Python 3",
   "language": "python",
   "name": "python3"
  },
  "language_info": {
   "codemirror_mode": {
    "name": "ipython",
    "version": 3
   },
   "file_extension": ".py",
   "mimetype": "text/x-python",
   "name": "python",
   "nbconvert_exporter": "python",
   "pygments_lexer": "ipython3",
   "version": "3.7.3"
  }
 },
 "nbformat": 4,
 "nbformat_minor": 2
}
