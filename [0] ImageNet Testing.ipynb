{
 "cells": [
  {
   "cell_type": "code",
   "execution_count": 1,
   "metadata": {},
   "outputs": [
    {
     "ename": "RuntimeError",
     "evalue": "('Meta file not found or corrupted.', 'You can use download=True to create it.')",
     "output_type": "error",
     "traceback": [
      "\u001b[0;31m---------------------------------------------------------------------------\u001b[0m",
      "\u001b[0;31mRuntimeError\u001b[0m                              Traceback (most recent call last)",
      "\u001b[0;32m<ipython-input-1-47fa523515ba>\u001b[0m in \u001b[0;36m<module>\u001b[0;34m\u001b[0m\n\u001b[1;32m      1\u001b[0m \u001b[0;32mimport\u001b[0m \u001b[0mtorchvision\u001b[0m\u001b[0;34m\u001b[0m\u001b[0;34m\u001b[0m\u001b[0m\n\u001b[1;32m      2\u001b[0m \u001b[0;34m\u001b[0m\u001b[0m\n\u001b[0;32m----> 3\u001b[0;31m \u001b[0mtrain_set\u001b[0m \u001b[0;34m=\u001b[0m \u001b[0mtorchvision\u001b[0m\u001b[0;34m.\u001b[0m\u001b[0mdatasets\u001b[0m\u001b[0;34m.\u001b[0m\u001b[0mImageNet\u001b[0m\u001b[0;34m(\u001b[0m\u001b[0;34m'./data/ILSVRC2015/Data/CLS-LOC'\u001b[0m\u001b[0;34m,\u001b[0m \u001b[0msplit\u001b[0m\u001b[0;34m=\u001b[0m\u001b[0;34m'train'\u001b[0m\u001b[0;34m)\u001b[0m\u001b[0;34m\u001b[0m\u001b[0;34m\u001b[0m\u001b[0m\n\u001b[0m",
      "\u001b[0;32m/usr/local/lib/python3.6/dist-packages/torchvision/datasets/imagenet.py\u001b[0m in \u001b[0;36m__init__\u001b[0;34m(self, root, split, download, **kwargs)\u001b[0m\n\u001b[1;32m     54\u001b[0m         \u001b[0;32mif\u001b[0m \u001b[0mdownload\u001b[0m\u001b[0;34m:\u001b[0m\u001b[0;34m\u001b[0m\u001b[0;34m\u001b[0m\u001b[0m\n\u001b[1;32m     55\u001b[0m             \u001b[0mself\u001b[0m\u001b[0;34m.\u001b[0m\u001b[0mdownload\u001b[0m\u001b[0;34m(\u001b[0m\u001b[0;34m)\u001b[0m\u001b[0;34m\u001b[0m\u001b[0;34m\u001b[0m\u001b[0m\n\u001b[0;32m---> 56\u001b[0;31m         \u001b[0mwnid_to_classes\u001b[0m \u001b[0;34m=\u001b[0m \u001b[0mself\u001b[0m\u001b[0;34m.\u001b[0m\u001b[0m_load_meta_file\u001b[0m\u001b[0;34m(\u001b[0m\u001b[0;34m)\u001b[0m\u001b[0;34m[\u001b[0m\u001b[0;36m0\u001b[0m\u001b[0;34m]\u001b[0m\u001b[0;34m\u001b[0m\u001b[0;34m\u001b[0m\u001b[0m\n\u001b[0m\u001b[1;32m     57\u001b[0m \u001b[0;34m\u001b[0m\u001b[0m\n\u001b[1;32m     58\u001b[0m         \u001b[0msuper\u001b[0m\u001b[0;34m(\u001b[0m\u001b[0mImageNet\u001b[0m\u001b[0;34m,\u001b[0m \u001b[0mself\u001b[0m\u001b[0;34m)\u001b[0m\u001b[0;34m.\u001b[0m\u001b[0m__init__\u001b[0m\u001b[0;34m(\u001b[0m\u001b[0mself\u001b[0m\u001b[0;34m.\u001b[0m\u001b[0msplit_folder\u001b[0m\u001b[0;34m,\u001b[0m \u001b[0;34m**\u001b[0m\u001b[0mkwargs\u001b[0m\u001b[0;34m)\u001b[0m\u001b[0;34m\u001b[0m\u001b[0;34m\u001b[0m\u001b[0m\n",
      "\u001b[0;32m/usr/local/lib/python3.6/dist-packages/torchvision/datasets/imagenet.py\u001b[0m in \u001b[0;36m_load_meta_file\u001b[0;34m(self)\u001b[0m\n\u001b[1;32m    106\u001b[0m         \u001b[0;32melse\u001b[0m\u001b[0;34m:\u001b[0m\u001b[0;34m\u001b[0m\u001b[0;34m\u001b[0m\u001b[0m\n\u001b[1;32m    107\u001b[0m             raise RuntimeError(\"Meta file not found or corrupted.\",\n\u001b[0;32m--> 108\u001b[0;31m                                \"You can use download=True to create it.\")\n\u001b[0m\u001b[1;32m    109\u001b[0m \u001b[0;34m\u001b[0m\u001b[0m\n\u001b[1;32m    110\u001b[0m     \u001b[0;32mdef\u001b[0m \u001b[0m_save_meta_file\u001b[0m\u001b[0;34m(\u001b[0m\u001b[0mself\u001b[0m\u001b[0;34m,\u001b[0m \u001b[0mwnid_to_class\u001b[0m\u001b[0;34m,\u001b[0m \u001b[0mval_wnids\u001b[0m\u001b[0;34m)\u001b[0m\u001b[0;34m:\u001b[0m\u001b[0;34m\u001b[0m\u001b[0;34m\u001b[0m\u001b[0m\n",
      "\u001b[0;31mRuntimeError\u001b[0m: ('Meta file not found or corrupted.', 'You can use download=True to create it.')"
     ]
    }
   ],
   "source": [
    "import torchvision\n",
    "\n",
    "train_set = torchvision.datasets.ImageNet('./data/ILSVRC2015/Data/CLS-LOC', split='train')"
   ]
  },
  {
   "cell_type": "code",
   "execution_count": 2,
   "metadata": {},
   "outputs": [],
   "source": [
    "import torch\n",
    "import torch.nn as nn\n",
    "import torch.optim as optim\n",
    "from data_utils import *\n",
    "\n",
    "dataloaders, dataset_sizes = data_loader('imagenet', './data/ILSVRC2015/Data/CLS-LOC', num_workers=0, batch_size=256)"
   ]
  },
  {
   "cell_type": "code",
   "execution_count": 3,
   "metadata": {},
   "outputs": [
    {
     "data": {
      "text/plain": [
       "{'pretrain': 1281167, 'train': 1231167, 'test': 50000, 'valid': 50000}"
      ]
     },
     "execution_count": 3,
     "metadata": {},
     "output_type": "execute_result"
    }
   ],
   "source": [
    "dataset_sizes"
   ]
  },
  {
   "cell_type": "code",
   "execution_count": 3,
   "metadata": {},
   "outputs": [
    {
     "name": "stdout",
     "output_type": "stream",
     "text": [
      "torch.Size([3, 224, 224])\n",
      "torch.Size([256])\n"
     ]
    }
   ],
   "source": [
    "samples, labels = next(iter(dataloaders['valid']))\n",
    "print(samples[0].shape)\n",
    "print(labels.shape)"
   ]
  },
  {
   "cell_type": "code",
   "execution_count": 4,
   "metadata": {},
   "outputs": [],
   "source": [
    "tester = nn.Sequential(\n",
    "    nn.AdaptiveAvgPool2d(7),\n",
    "    nn.Conv2d(in_channels=3, out_channels=1, kernel_size=7),\n",
    "    nn.Sigmoid(),\n",
    "    nn.Flatten()\n",
    ")\n",
    "\n",
    "tester = tester.to('cuda:3')\n",
    "\n"
   ]
  },
  {
   "cell_type": "code",
   "execution_count": 5,
   "metadata": {},
   "outputs": [
    {
     "data": {
      "text/plain": [
       "torch.Size([256, 1])"
      ]
     },
     "execution_count": 5,
     "metadata": {},
     "output_type": "execute_result"
    }
   ],
   "source": [
    "output = tester(samples.to('cuda:3'))\n",
    "output.shape"
   ]
  },
  {
   "cell_type": "code",
   "execution_count": 6,
   "metadata": {},
   "outputs": [
    {
     "name": "stdout",
     "output_type": "stream",
     "text": [
      "1 th batch processing\n",
      "2 th batch processing\n",
      "3 th batch processing\n",
      "4 th batch processing\n",
      "5 th batch processing\n",
      "6 th batch processing\n",
      "7 th batch processing\n",
      "8 th batch processing\n",
      "9 th batch processing\n",
      "10 th batch processing\n",
      "11 th batch processing\n",
      "12 th batch processing\n",
      "13 th batch processing\n",
      "14 th batch processing\n",
      "15 th batch processing\n",
      "16 th batch processing\n",
      "17 th batch processing\n",
      "18 th batch processing\n",
      "19 th batch processing\n",
      "20 th batch processing\n",
      "21 th batch processing\n",
      "22 th batch processing\n",
      "23 th batch processing\n",
      "24 th batch processing\n",
      "25 th batch processing\n",
      "26 th batch processing\n",
      "27 th batch processing\n",
      "28 th batch processing\n",
      "29 th batch processing\n",
      "30 th batch processing\n",
      "31 th batch processing\n",
      "32 th batch processing\n",
      "33 th batch processing\n",
      "34 th batch processing\n",
      "35 th batch processing\n",
      "36 th batch processing\n",
      "37 th batch processing\n",
      "38 th batch processing\n",
      "39 th batch processing\n",
      "40 th batch processing\n",
      "41 th batch processing\n",
      "42 th batch processing\n",
      "43 th batch processing\n",
      "44 th batch processing\n",
      "45 th batch processing\n",
      "46 th batch processing\n",
      "47 th batch processing\n",
      "48 th batch processing\n",
      "49 th batch processing\n",
      "50 th batch processing\n",
      "51 th batch processing\n",
      "52 th batch processing\n",
      "53 th batch processing\n",
      "54 th batch processing\n",
      "55 th batch processing\n",
      "56 th batch processing\n",
      "57 th batch processing\n",
      "58 th batch processing\n",
      "59 th batch processing\n",
      "60 th batch processing\n",
      "61 th batch processing\n",
      "62 th batch processing\n",
      "63 th batch processing\n",
      "64 th batch processing\n",
      "65 th batch processing\n",
      "66 th batch processing\n",
      "67 th batch processing\n",
      "68 th batch processing\n",
      "69 th batch processing\n",
      "70 th batch processing\n",
      "71 th batch processing\n",
      "72 th batch processing\n",
      "73 th batch processing\n",
      "74 th batch processing\n",
      "75 th batch processing\n",
      "76 th batch processing\n",
      "77 th batch processing\n",
      "78 th batch processing\n",
      "79 th batch processing\n",
      "80 th batch processing\n",
      "81 th batch processing\n",
      "82 th batch processing\n",
      "83 th batch processing\n",
      "84 th batch processing\n",
      "85 th batch processing\n",
      "86 th batch processing\n",
      "87 th batch processing\n",
      "88 th batch processing\n",
      "89 th batch processing\n",
      "90 th batch processing\n",
      "91 th batch processing\n",
      "92 th batch processing\n",
      "93 th batch processing\n",
      "94 th batch processing\n",
      "95 th batch processing\n",
      "96 th batch processing\n",
      "97 th batch processing\n",
      "98 th batch processing\n",
      "99 th batch processing\n",
      "100 th batch processing\n",
      "101 th batch processing\n",
      "102 th batch processing\n",
      "103 th batch processing\n",
      "104 th batch processing\n",
      "105 th batch processing\n",
      "106 th batch processing\n",
      "107 th batch processing\n",
      "108 th batch processing\n",
      "109 th batch processing\n",
      "110 th batch processing\n",
      "111 th batch processing\n",
      "112 th batch processing\n",
      "113 th batch processing\n",
      "114 th batch processing\n",
      "115 th batch processing\n",
      "116 th batch processing\n",
      "117 th batch processing\n",
      "118 th batch processing\n",
      "119 th batch processing\n",
      "120 th batch processing\n",
      "121 th batch processing\n",
      "122 th batch processing\n",
      "123 th batch processing\n",
      "124 th batch processing\n",
      "125 th batch processing\n",
      "126 th batch processing\n",
      "127 th batch processing\n",
      "128 th batch processing\n",
      "129 th batch processing\n",
      "130 th batch processing\n",
      "131 th batch processing\n",
      "132 th batch processing\n",
      "133 th batch processing\n",
      "134 th batch processing\n",
      "135 th batch processing\n",
      "136 th batch processing\n",
      "137 th batch processing\n",
      "138 th batch processing\n",
      "139 th batch processing\n",
      "140 th batch processing\n",
      "141 th batch processing\n",
      "142 th batch processing\n",
      "143 th batch processing\n",
      "144 th batch processing\n",
      "145 th batch processing\n",
      "146 th batch processing\n",
      "147 th batch processing\n",
      "148 th batch processing\n",
      "149 th batch processing\n",
      "150 th batch processing\n",
      "151 th batch processing\n",
      "152 th batch processing\n",
      "153 th batch processing\n",
      "154 th batch processing\n",
      "155 th batch processing\n",
      "156 th batch processing\n",
      "157 th batch processing\n",
      "158 th batch processing\n",
      "159 th batch processing\n",
      "160 th batch processing\n",
      "161 th batch processing\n",
      "162 th batch processing\n",
      "163 th batch processing\n",
      "164 th batch processing\n",
      "165 th batch processing\n",
      "166 th batch processing\n",
      "167 th batch processing\n",
      "168 th batch processing\n",
      "169 th batch processing\n",
      "170 th batch processing\n",
      "171 th batch processing\n",
      "172 th batch processing\n",
      "173 th batch processing\n",
      "174 th batch processing\n",
      "175 th batch processing\n",
      "176 th batch processing\n",
      "177 th batch processing\n",
      "178 th batch processing\n",
      "179 th batch processing\n",
      "180 th batch processing\n",
      "181 th batch processing\n",
      "182 th batch processing\n",
      "183 th batch processing\n",
      "184 th batch processing\n",
      "185 th batch processing\n",
      "186 th batch processing\n",
      "187 th batch processing\n",
      "188 th batch processing\n",
      "189 th batch processing\n",
      "190 th batch processing\n",
      "191 th batch processing\n",
      "192 th batch processing\n",
      "193 th batch processing\n",
      "194 th batch processing\n",
      "195 th batch processing\n",
      "196 th batch processing\n",
      "391.9302034378052\n",
      "썩쎄쓰!!\n"
     ]
    }
   ],
   "source": [
    "import time\n",
    "\n",
    "time_stamp = time.time()\n",
    "\n",
    "count = 0\n",
    "\n",
    "for samples, labels in dataloaders['valid']:\n",
    "    count += 1\n",
    "    print('%d th batch processing' % count)\n",
    "        \n",
    "    samples = samples.to('cuda:3')\n",
    "    output = tester(samples)\n",
    "\n",
    "    \n",
    "elapsed = time.time() - time_stamp\n",
    "\n",
    "print(elapsed)\n",
    "print('썩쎄쓰!!')"
   ]
  },
  {
   "cell_type": "code",
   "execution_count": 10,
   "metadata": {},
   "outputs": [
    {
     "name": "stdout",
     "output_type": "stream",
     "text": [
      "check\n"
     ]
    }
   ],
   "source": [
    "print('check')"
   ]
  },
  {
   "cell_type": "code",
   "execution_count": 11,
   "metadata": {},
   "outputs": [
    {
     "name": "stdout",
     "output_type": "stream",
     "text": [
      "27097.61278128624\n"
     ]
    }
   ],
   "source": [
    "print(elapsed)"
   ]
  },
  {
   "cell_type": "code",
   "execution_count": 12,
   "metadata": {},
   "outputs": [
    {
     "name": "stdout",
     "output_type": "stream",
     "text": [
      "5005\n"
     ]
    }
   ],
   "source": [
    "print(count)"
   ]
  },
  {
   "cell_type": "code",
   "execution_count": 13,
   "metadata": {},
   "outputs": [
    {
     "data": {
      "text/plain": [
       "1281280"
      ]
     },
     "execution_count": 13,
     "metadata": {},
     "output_type": "execute_result"
    }
   ],
   "source": [
    "count*256"
   ]
  },
  {
   "cell_type": "code",
   "execution_count": 14,
   "metadata": {},
   "outputs": [
    {
     "data": {
      "text/plain": [
       "7.5271146614684"
      ]
     },
     "execution_count": 14,
     "metadata": {},
     "output_type": "execute_result"
    }
   ],
   "source": [
    "elapsed/3600 "
   ]
  },
  {
   "cell_type": "code",
   "execution_count": null,
   "metadata": {},
   "outputs": [],
   "source": []
  }
 ],
 "metadata": {
  "kernelspec": {
   "display_name": "Python 3",
   "language": "python",
   "name": "python3"
  },
  "language_info": {
   "codemirror_mode": {
    "name": "ipython",
    "version": 3
   },
   "file_extension": ".py",
   "mimetype": "text/x-python",
   "name": "python",
   "nbconvert_exporter": "python",
   "pygments_lexer": "ipython3",
   "version": "3.6.9"
  }
 },
 "nbformat": 4,
 "nbformat_minor": 4
}
